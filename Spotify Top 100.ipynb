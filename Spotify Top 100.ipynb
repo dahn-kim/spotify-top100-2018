{
 "cells": [
  {
   "cell_type": "code",
   "execution_count": 1,
   "metadata": {},
   "outputs": [],
   "source": [
    "import pandas as pd\n",
    "import numpy as np\n",
    "import seaborn as sns\n",
    "import matplotlib.pyplot as plt\n",
    "%matplotlib inline"
   ]
  },
  {
   "cell_type": "code",
   "execution_count": 2,
   "metadata": {},
   "outputs": [],
   "source": [
    "df = pd.read_csv('spotify-top2018.csv')"
   ]
  },
  {
   "cell_type": "markdown",
   "metadata": {},
   "source": [
    "Spotify is one of the most used and beloved music streaming service all over world. Every year Spotify provides top 100 tracks of the year by the audience. I find Spotify's data interesting as the datas are directly collected from the prefrences and behaviour of spotify users. \n",
    "\n",
    "Every year or a half decade, just like the fashion industry, music also has it's own trends. Through this Spotify's Top 100 list, let's ask what was the music trend of 2017-2018? "
   ]
  },
  {
   "cell_type": "code",
   "execution_count": 3,
   "metadata": {},
   "outputs": [
    {
     "name": "stdout",
     "output_type": "stream",
     "text": [
      "<class 'pandas.core.frame.DataFrame'>\n",
      "RangeIndex: 100 entries, 0 to 99\n",
      "Data columns (total 16 columns):\n",
      "id                  100 non-null object\n",
      "name                100 non-null object\n",
      "artists             100 non-null object\n",
      "danceability        100 non-null float64\n",
      "energy              100 non-null float64\n",
      "key                 100 non-null float64\n",
      "loudness            100 non-null float64\n",
      "mode                100 non-null float64\n",
      "speechiness         100 non-null float64\n",
      "acousticness        100 non-null float64\n",
      "instrumentalness    100 non-null float64\n",
      "liveness            100 non-null float64\n",
      "valence             100 non-null float64\n",
      "tempo               100 non-null float64\n",
      "duration_ms         100 non-null float64\n",
      "time_signature      100 non-null float64\n",
      "dtypes: float64(13), object(3)\n",
      "memory usage: 12.6+ KB\n"
     ]
    }
   ],
   "source": [
    "df.info()"
   ]
  },
  {
   "cell_type": "code",
   "execution_count": 4,
   "metadata": {},
   "outputs": [
    {
     "data": {
      "text/html": [
       "<div>\n",
       "<style scoped>\n",
       "    .dataframe tbody tr th:only-of-type {\n",
       "        vertical-align: middle;\n",
       "    }\n",
       "\n",
       "    .dataframe tbody tr th {\n",
       "        vertical-align: top;\n",
       "    }\n",
       "\n",
       "    .dataframe thead th {\n",
       "        text-align: right;\n",
       "    }\n",
       "</style>\n",
       "<table border=\"1\" class=\"dataframe\">\n",
       "  <thead>\n",
       "    <tr style=\"text-align: right;\">\n",
       "      <th></th>\n",
       "      <th>id</th>\n",
       "      <th>name</th>\n",
       "      <th>artists</th>\n",
       "      <th>danceability</th>\n",
       "      <th>energy</th>\n",
       "      <th>key</th>\n",
       "      <th>loudness</th>\n",
       "      <th>mode</th>\n",
       "      <th>speechiness</th>\n",
       "      <th>acousticness</th>\n",
       "      <th>instrumentalness</th>\n",
       "      <th>liveness</th>\n",
       "      <th>valence</th>\n",
       "      <th>tempo</th>\n",
       "      <th>duration_ms</th>\n",
       "      <th>time_signature</th>\n",
       "    </tr>\n",
       "  </thead>\n",
       "  <tbody>\n",
       "    <tr>\n",
       "      <th>0</th>\n",
       "      <td>6DCZcSspjsKoFjzjrWoCd</td>\n",
       "      <td>God's Plan</td>\n",
       "      <td>Drake</td>\n",
       "      <td>0.754</td>\n",
       "      <td>0.449</td>\n",
       "      <td>7.0</td>\n",
       "      <td>-9.211</td>\n",
       "      <td>1.0</td>\n",
       "      <td>0.1090</td>\n",
       "      <td>0.0332</td>\n",
       "      <td>0.000083</td>\n",
       "      <td>0.5520</td>\n",
       "      <td>0.357</td>\n",
       "      <td>77.169</td>\n",
       "      <td>198973.0</td>\n",
       "      <td>4.0</td>\n",
       "    </tr>\n",
       "    <tr>\n",
       "      <th>1</th>\n",
       "      <td>3ee8Jmje8o58CHK66QrVC</td>\n",
       "      <td>SAD!</td>\n",
       "      <td>XXXTENTACION</td>\n",
       "      <td>0.740</td>\n",
       "      <td>0.613</td>\n",
       "      <td>8.0</td>\n",
       "      <td>-4.880</td>\n",
       "      <td>1.0</td>\n",
       "      <td>0.1450</td>\n",
       "      <td>0.2580</td>\n",
       "      <td>0.003720</td>\n",
       "      <td>0.1230</td>\n",
       "      <td>0.473</td>\n",
       "      <td>75.023</td>\n",
       "      <td>166606.0</td>\n",
       "      <td>4.0</td>\n",
       "    </tr>\n",
       "    <tr>\n",
       "      <th>2</th>\n",
       "      <td>0e7ipj03S05BNilyu5bRz</td>\n",
       "      <td>rockstar (feat. 21 Savage)</td>\n",
       "      <td>Post Malone</td>\n",
       "      <td>0.587</td>\n",
       "      <td>0.535</td>\n",
       "      <td>5.0</td>\n",
       "      <td>-6.090</td>\n",
       "      <td>0.0</td>\n",
       "      <td>0.0898</td>\n",
       "      <td>0.1170</td>\n",
       "      <td>0.000066</td>\n",
       "      <td>0.1310</td>\n",
       "      <td>0.140</td>\n",
       "      <td>159.847</td>\n",
       "      <td>218147.0</td>\n",
       "      <td>4.0</td>\n",
       "    </tr>\n",
       "    <tr>\n",
       "      <th>3</th>\n",
       "      <td>3swc6WTsr7rl9DqQKQA55</td>\n",
       "      <td>Psycho (feat. Ty Dolla $ign)</td>\n",
       "      <td>Post Malone</td>\n",
       "      <td>0.739</td>\n",
       "      <td>0.559</td>\n",
       "      <td>8.0</td>\n",
       "      <td>-8.011</td>\n",
       "      <td>1.0</td>\n",
       "      <td>0.1170</td>\n",
       "      <td>0.5800</td>\n",
       "      <td>0.000000</td>\n",
       "      <td>0.1120</td>\n",
       "      <td>0.439</td>\n",
       "      <td>140.124</td>\n",
       "      <td>221440.0</td>\n",
       "      <td>4.0</td>\n",
       "    </tr>\n",
       "    <tr>\n",
       "      <th>4</th>\n",
       "      <td>2G7V7zsVDxg1yRsu7Ew9R</td>\n",
       "      <td>In My Feelings</td>\n",
       "      <td>Drake</td>\n",
       "      <td>0.835</td>\n",
       "      <td>0.626</td>\n",
       "      <td>1.0</td>\n",
       "      <td>-5.833</td>\n",
       "      <td>1.0</td>\n",
       "      <td>0.1250</td>\n",
       "      <td>0.0589</td>\n",
       "      <td>0.000060</td>\n",
       "      <td>0.3960</td>\n",
       "      <td>0.350</td>\n",
       "      <td>91.030</td>\n",
       "      <td>217925.0</td>\n",
       "      <td>4.0</td>\n",
       "    </tr>\n",
       "    <tr>\n",
       "      <th>5</th>\n",
       "      <td>7dt6x5M1jzdTEt8oCbisT</td>\n",
       "      <td>Better Now</td>\n",
       "      <td>Post Malone</td>\n",
       "      <td>0.680</td>\n",
       "      <td>0.563</td>\n",
       "      <td>10.0</td>\n",
       "      <td>-5.843</td>\n",
       "      <td>1.0</td>\n",
       "      <td>0.0454</td>\n",
       "      <td>0.3540</td>\n",
       "      <td>0.000000</td>\n",
       "      <td>0.1360</td>\n",
       "      <td>0.374</td>\n",
       "      <td>145.028</td>\n",
       "      <td>231267.0</td>\n",
       "      <td>4.0</td>\n",
       "    </tr>\n",
       "    <tr>\n",
       "      <th>6</th>\n",
       "      <td>58q2HKrzhC3ozto2nDdN4</td>\n",
       "      <td>I Like It</td>\n",
       "      <td>Cardi B</td>\n",
       "      <td>0.816</td>\n",
       "      <td>0.726</td>\n",
       "      <td>5.0</td>\n",
       "      <td>-3.998</td>\n",
       "      <td>0.0</td>\n",
       "      <td>0.1290</td>\n",
       "      <td>0.0990</td>\n",
       "      <td>0.000000</td>\n",
       "      <td>0.3720</td>\n",
       "      <td>0.650</td>\n",
       "      <td>136.048</td>\n",
       "      <td>253390.0</td>\n",
       "      <td>4.0</td>\n",
       "    </tr>\n",
       "    <tr>\n",
       "      <th>7</th>\n",
       "      <td>7ef4DlsgrMEH11cDZd32M</td>\n",
       "      <td>One Kiss (with Dua Lipa)</td>\n",
       "      <td>Calvin Harris</td>\n",
       "      <td>0.791</td>\n",
       "      <td>0.862</td>\n",
       "      <td>9.0</td>\n",
       "      <td>-3.240</td>\n",
       "      <td>0.0</td>\n",
       "      <td>0.1100</td>\n",
       "      <td>0.0370</td>\n",
       "      <td>0.000022</td>\n",
       "      <td>0.0814</td>\n",
       "      <td>0.592</td>\n",
       "      <td>123.994</td>\n",
       "      <td>214847.0</td>\n",
       "      <td>4.0</td>\n",
       "    </tr>\n",
       "    <tr>\n",
       "      <th>8</th>\n",
       "      <td>76cy1WJvNGJTj78UqeA5z</td>\n",
       "      <td>IDGAF</td>\n",
       "      <td>Dua Lipa</td>\n",
       "      <td>0.836</td>\n",
       "      <td>0.544</td>\n",
       "      <td>7.0</td>\n",
       "      <td>-5.975</td>\n",
       "      <td>1.0</td>\n",
       "      <td>0.0943</td>\n",
       "      <td>0.0403</td>\n",
       "      <td>0.000000</td>\n",
       "      <td>0.0824</td>\n",
       "      <td>0.510</td>\n",
       "      <td>97.028</td>\n",
       "      <td>217947.0</td>\n",
       "      <td>4.0</td>\n",
       "    </tr>\n",
       "    <tr>\n",
       "      <th>9</th>\n",
       "      <td>08bNPGLD8AhKpnnERrAc6</td>\n",
       "      <td>FRIENDS</td>\n",
       "      <td>Marshmello</td>\n",
       "      <td>0.626</td>\n",
       "      <td>0.880</td>\n",
       "      <td>9.0</td>\n",
       "      <td>-2.384</td>\n",
       "      <td>0.0</td>\n",
       "      <td>0.0504</td>\n",
       "      <td>0.2050</td>\n",
       "      <td>0.000000</td>\n",
       "      <td>0.1280</td>\n",
       "      <td>0.534</td>\n",
       "      <td>95.079</td>\n",
       "      <td>202621.0</td>\n",
       "      <td>4.0</td>\n",
       "    </tr>\n",
       "  </tbody>\n",
       "</table>\n",
       "</div>"
      ],
      "text/plain": [
       "                      id                          name        artists  \\\n",
       "0  6DCZcSspjsKoFjzjrWoCd                    God's Plan          Drake   \n",
       "1  3ee8Jmje8o58CHK66QrVC                          SAD!   XXXTENTACION   \n",
       "2  0e7ipj03S05BNilyu5bRz    rockstar (feat. 21 Savage)    Post Malone   \n",
       "3  3swc6WTsr7rl9DqQKQA55  Psycho (feat. Ty Dolla $ign)    Post Malone   \n",
       "4  2G7V7zsVDxg1yRsu7Ew9R                In My Feelings          Drake   \n",
       "5  7dt6x5M1jzdTEt8oCbisT                    Better Now    Post Malone   \n",
       "6  58q2HKrzhC3ozto2nDdN4                     I Like It        Cardi B   \n",
       "7  7ef4DlsgrMEH11cDZd32M      One Kiss (with Dua Lipa)  Calvin Harris   \n",
       "8  76cy1WJvNGJTj78UqeA5z                         IDGAF       Dua Lipa   \n",
       "9  08bNPGLD8AhKpnnERrAc6                       FRIENDS     Marshmello   \n",
       "\n",
       "   danceability  energy   key  loudness  mode  speechiness  acousticness  \\\n",
       "0         0.754   0.449   7.0    -9.211   1.0       0.1090        0.0332   \n",
       "1         0.740   0.613   8.0    -4.880   1.0       0.1450        0.2580   \n",
       "2         0.587   0.535   5.0    -6.090   0.0       0.0898        0.1170   \n",
       "3         0.739   0.559   8.0    -8.011   1.0       0.1170        0.5800   \n",
       "4         0.835   0.626   1.0    -5.833   1.0       0.1250        0.0589   \n",
       "5         0.680   0.563  10.0    -5.843   1.0       0.0454        0.3540   \n",
       "6         0.816   0.726   5.0    -3.998   0.0       0.1290        0.0990   \n",
       "7         0.791   0.862   9.0    -3.240   0.0       0.1100        0.0370   \n",
       "8         0.836   0.544   7.0    -5.975   1.0       0.0943        0.0403   \n",
       "9         0.626   0.880   9.0    -2.384   0.0       0.0504        0.2050   \n",
       "\n",
       "   instrumentalness  liveness  valence    tempo  duration_ms  time_signature  \n",
       "0          0.000083    0.5520    0.357   77.169     198973.0             4.0  \n",
       "1          0.003720    0.1230    0.473   75.023     166606.0             4.0  \n",
       "2          0.000066    0.1310    0.140  159.847     218147.0             4.0  \n",
       "3          0.000000    0.1120    0.439  140.124     221440.0             4.0  \n",
       "4          0.000060    0.3960    0.350   91.030     217925.0             4.0  \n",
       "5          0.000000    0.1360    0.374  145.028     231267.0             4.0  \n",
       "6          0.000000    0.3720    0.650  136.048     253390.0             4.0  \n",
       "7          0.000022    0.0814    0.592  123.994     214847.0             4.0  \n",
       "8          0.000000    0.0824    0.510   97.028     217947.0             4.0  \n",
       "9          0.000000    0.1280    0.534   95.079     202621.0             4.0  "
      ]
     },
     "execution_count": 4,
     "metadata": {},
     "output_type": "execute_result"
    }
   ],
   "source": [
    "df.head(10)"
   ]
  },
  {
   "cell_type": "markdown",
   "metadata": {},
   "source": [
    "The table shows multiple tracks by one artist, let's check who has the most tracks on the list first."
   ]
  },
  {
   "cell_type": "code",
   "execution_count": 5,
   "metadata": {},
   "outputs": [
    {
     "data": {
      "text/plain": [
       "Post Malone       6\n",
       "XXXTENTACION      6\n",
       "Drake             4\n",
       "Ed Sheeran        3\n",
       "Marshmello        3\n",
       "Selena Gomez      2\n",
       "Migos             2\n",
       "Kendrick Lamar    2\n",
       "The Weeknd        2\n",
       "Clean Bandit      2\n",
       "Name: artists, dtype: int64"
      ]
     },
     "execution_count": 5,
     "metadata": {},
     "output_type": "execute_result"
    }
   ],
   "source": [
    "df['artists'].value_counts().head(10)"
   ]
  },
  {
   "cell_type": "markdown",
   "metadata": {},
   "source": [
    "This list shows the top 10 artists with the number of tracks on the top 100 list. XXXTENTACION and Post Malone have each 6 tracks listed. \n",
    "\n",
    "Spotify has provided different analyitical characteristics of track from danceability, energy, tempo to liveness. Let's check how they are all relevant to each other.  "
   ]
  },
  {
   "cell_type": "code",
   "execution_count": 6,
   "metadata": {},
   "outputs": [
    {
     "data": {
      "text/plain": [
       "<matplotlib.axes._subplots.AxesSubplot at 0x118dcb1d0>"
      ]
     },
     "execution_count": 6,
     "metadata": {},
     "output_type": "execute_result"
    },
    {
     "data": {
      "image/png": "[encoded data removed]",
      "text/plain": [
       "<Figure size 432x288 with 2 Axes>"
      ]
     },
     "metadata": {},
     "output_type": "display_data"
    }
   ],
   "source": [
    "sns.set(style=\"white\")\n",
    "cmap = sns.diverging_palette(220, 10, as_cmap=True)\n",
    "sns.heatmap(df.corr(),cmap=cmap)"
   ]
  },
  {
   "cell_type": "markdown",
   "metadata": {},
   "source": [
    "In this heatmap, we can see 'loudness' and 'energy' have correlation to each other. Let's analyse how other are correlated to each other."
   ]
  },
  {
   "cell_type": "markdown",
   "metadata": {},
   "source": [
    "## Danceability analysis\n",
    "### What is danceability? Danceability describes how suitable a track is for dancing based on a combination of musical elements including tempo, rhythm stability, beat strength, and overall regularity. A value of 0.0 is least danceable and 1.0 is most danceable."
   ]
  },
  {
   "cell_type": "code",
   "execution_count": 7,
   "metadata": {},
   "outputs": [
    {
     "data": {
      "text/plain": [
       "<matplotlib.axes._subplots.AxesSubplot at 0x11aee0e10>"
      ]
     },
     "execution_count": 7,
     "metadata": {},
     "output_type": "execute_result"
    },
    {
     "data": {
      "image/png": "[encoded data removed]",
      "text/plain": [
       "<Figure size 432x288 with 1 Axes>"
      ]
     },
     "metadata": {},
     "output_type": "display_data"
    }
   ],
   "source": [
    "sns.set(style='darkgrid')\n",
    "sns.distplot(df['danceability'])"
   ]
  },
  {
   "cell_type": "markdown",
   "metadata": {},
   "source": [
    "The results shows most tracks are dance-friendly. Let's be more detailed seperating into three groups: \n",
    "1) greather than 75% - most danceable, \n",
    "2) grather than 50% - moderatle danceable \n",
    "3) less than 50% - calm and less danceable. "
   ]
  },
  {
   "cell_type": "code",
   "execution_count": 21,
   "metadata": {},
   "outputs": [],
   "source": [
    "# conditions\n",
    "hd=df['danceability']>=0.75\n",
    "md=(df['danceability']>=0.5) & (df['danceability']<0.75)\n",
    "ld=df['danceability']<0.5"
   ]
  },
  {
   "cell_type": "code",
   "execution_count": 19,
   "metadata": {},
   "outputs": [],
   "source": [
    "# create a new dataframe\n",
    "\n",
    "data=[hd.sum(), md.sum(), ld.sum()]\n",
    "Dance=pd.DataFrame(data,columns=['percent'],\n",
    "                  index=['Very','Regular','No dance'])"
   ]
  },
  {
   "cell_type": "code",
   "execution_count": 20,
   "metadata": {},
   "outputs": [
    {
     "data": {
      "text/html": [
       "<div>\n",
       "<style scoped>\n",
       "    .dataframe tbody tr th:only-of-type {\n",
       "        vertical-align: middle;\n",
       "    }\n",
       "\n",
       "    .dataframe tbody tr th {\n",
       "        vertical-align: top;\n",
       "    }\n",
       "\n",
       "    .dataframe thead th {\n",
       "        text-align: right;\n",
       "    }\n",
       "</style>\n",
       "<table border=\"1\" class=\"dataframe\">\n",
       "  <thead>\n",
       "    <tr style=\"text-align: right;\">\n",
       "      <th></th>\n",
       "      <th>percent</th>\n",
       "    </tr>\n",
       "  </thead>\n",
       "  <tbody>\n",
       "    <tr>\n",
       "      <th>Very</th>\n",
       "      <td>43</td>\n",
       "    </tr>\n",
       "    <tr>\n",
       "      <th>Regular</th>\n",
       "      <td>53</td>\n",
       "    </tr>\n",
       "    <tr>\n",
       "      <th>No dance</th>\n",
       "      <td>4</td>\n",
       "    </tr>\n",
       "  </tbody>\n",
       "</table>\n",
       "</div>"
      ],
      "text/plain": [
       "          percent\n",
       "Very           43\n",
       "Regular        53\n",
       "No dance        4"
      ]
     },
     "execution_count": 20,
     "metadata": {},
     "output_type": "execute_result"
    }
   ],
   "source": [
    "Dance"
   ]
  },
  {
   "cell_type": "markdown",
   "metadata": {},
   "source": [
    "# Energy"
   ]
  },
  {
   "cell_type": "code",
   "execution_count": 22,
   "metadata": {},
   "outputs": [
    {
     "data": {
      "text/plain": [
       "<matplotlib.axes._subplots.AxesSubplot at 0x11d04ba90>"
      ]
     },
     "execution_count": 22,
     "metadata": {},
     "output_type": "execute_result"
    },
    {
     "data": {
      "image/png": "[encoded data removed]",
      "text/plain": [
       "<Figure size 432x288 with 1 Axes>"
      ]
     },
     "metadata": {},
     "output_type": "display_data"
    }
   ],
   "source": [
    "sns.set(style=\"darkgrid\")\n",
    "sns.distplot(df['energy'])"
   ]
  },
  {
   "cell_type": "code",
   "execution_count": 32,
   "metadata": {},
   "outputs": [],
   "source": [
    "#conditions\n",
    "he=df['energy']>0.7\n",
    "me=(df['energy']>=0.5)&(df['energy']<0.7)\n",
    "le=df['energy']<0.5\n"
   ]
  },
  {
   "cell_type": "code",
   "execution_count": 33,
   "metadata": {},
   "outputs": [],
   "source": [
    "data=[he.sum(),me.sum(),le.sum()]\n",
    "Energy=pd.DataFrame(data, columns=['percent'],\n",
    "                   index=['upbeat','modeate','quiet'])"
   ]
  },
  {
   "cell_type": "code",
   "execution_count": 34,
   "metadata": {},
   "outputs": [
    {
     "data": {
      "text/html": [
       "<div>\n",
       "<style scoped>\n",
       "    .dataframe tbody tr th:only-of-type {\n",
       "        vertical-align: middle;\n",
       "    }\n",
       "\n",
       "    .dataframe tbody tr th {\n",
       "        vertical-align: top;\n",
       "    }\n",
       "\n",
       "    .dataframe thead th {\n",
       "        text-align: right;\n",
       "    }\n",
       "</style>\n",
       "<table border=\"1\" class=\"dataframe\">\n",
       "  <thead>\n",
       "    <tr style=\"text-align: right;\">\n",
       "      <th></th>\n",
       "      <th>percent</th>\n",
       "    </tr>\n",
       "  </thead>\n",
       "  <tbody>\n",
       "    <tr>\n",
       "      <th>upbeat</th>\n",
       "      <td>45</td>\n",
       "    </tr>\n",
       "    <tr>\n",
       "      <th>modeate</th>\n",
       "      <td>41</td>\n",
       "    </tr>\n",
       "    <tr>\n",
       "      <th>quiet</th>\n",
       "      <td>13</td>\n",
       "    </tr>\n",
       "  </tbody>\n",
       "</table>\n",
       "</div>"
      ],
      "text/plain": [
       "         percent\n",
       "upbeat        45\n",
       "modeate       41\n",
       "quiet         13"
      ]
     },
     "execution_count": 34,
     "metadata": {},
     "output_type": "execute_result"
    }
   ],
   "source": [
    "Energy"
   ]
  },
  {
   "cell_type": "markdown",
   "metadata": {},
   "source": [
    "# Loudness"
   ]
  },
  {
   "cell_type": "markdown",
   "metadata": {},
   "source": [
    "The overall loudness of a track in decibels (dB). Loudness values are averaged across the entire track and are useful for comparing relative loudness of tracks. Loudness is the quality of a sound that is the primary psychological correlate of physical strength (amplitude). Values typical range between -60 and 0 db."
   ]
  },
  {
   "cell_type": "code",
   "execution_count": 27,
   "metadata": {},
   "outputs": [
    {
     "data": {
      "text/plain": [
       "<matplotlib.axes._subplots.AxesSubplot at 0x11d1b02e8>"
      ]
     },
     "execution_count": 27,
     "metadata": {},
     "output_type": "execute_result"
    },
    {
     "data": {
      "image/png": "[encoded data removed]",
      "text/plain": [
       "<Figure size 432x288 with 1 Axes>"
      ]
     },
     "metadata": {},
     "output_type": "display_data"
    }
   ],
   "source": [
    "sns.distplot(df['loudness'])"
   ]
  },
  {
   "cell_type": "code",
   "execution_count": 29,
   "metadata": {},
   "outputs": [],
   "source": [
    "#conditions, let's see if the category will show similarity to energy\n",
    "loud=df['loudness']>-5\n",
    "medium=(df['loudness']>=-7) & (df['loudness']<-5)\n",
    "low=df['loudness']<-7"
   ]
  },
  {
   "cell_type": "code",
   "execution_count": 30,
   "metadata": {},
   "outputs": [],
   "source": [
    "data=[loud.sum(),medium.sum(),low.sum()]\n",
    "Loudness=pd.DataFrame(data, columns=['percent'],\n",
    "                     index=['Loud','Medium','Low'])"
   ]
  },
  {
   "cell_type": "code",
   "execution_count": 31,
   "metadata": {},
   "outputs": [
    {
     "data": {
      "text/html": [
       "<div>\n",
       "<style scoped>\n",
       "    .dataframe tbody tr th:only-of-type {\n",
       "        vertical-align: middle;\n",
       "    }\n",
       "\n",
       "    .dataframe tbody tr th {\n",
       "        vertical-align: top;\n",
       "    }\n",
       "\n",
       "    .dataframe thead th {\n",
       "        text-align: right;\n",
       "    }\n",
       "</style>\n",
       "<table border=\"1\" class=\"dataframe\">\n",
       "  <thead>\n",
       "    <tr style=\"text-align: right;\">\n",
       "      <th></th>\n",
       "      <th>percent</th>\n",
       "    </tr>\n",
       "  </thead>\n",
       "  <tbody>\n",
       "    <tr>\n",
       "      <th>Loud</th>\n",
       "      <td>41</td>\n",
       "    </tr>\n",
       "    <tr>\n",
       "      <th>Medium</th>\n",
       "      <td>36</td>\n",
       "    </tr>\n",
       "    <tr>\n",
       "      <th>Low</th>\n",
       "      <td>23</td>\n",
       "    </tr>\n",
       "  </tbody>\n",
       "</table>\n",
       "</div>"
      ],
      "text/plain": [
       "        percent\n",
       "Loud         41\n",
       "Medium       36\n",
       "Low          23"
      ]
     },
     "execution_count": 31,
     "metadata": {},
     "output_type": "execute_result"
    }
   ],
   "source": [
    "Loudness"
   ]
  },
  {
   "cell_type": "code",
   "execution_count": null,
   "metadata": {},
   "outputs": [],
   "source": []
  }
 ],
 "metadata": {
  "kernelspec": {
   "display_name": "Python 3",
   "language": "python",
   "name": "python3"
  },
  "language_info": {
   "codemirror_mode": {
    "name": "ipython",
    "version": 3
   },
   "file_extension": ".py",
   "mimetype": "text/x-python",
   "name": "python",
   "nbconvert_exporter": "python",
   "pygments_lexer": "ipython3",
   "version": "3.6.3"
  }
 },
 "nbformat": 4,
 "nbformat_minor": 2
}
